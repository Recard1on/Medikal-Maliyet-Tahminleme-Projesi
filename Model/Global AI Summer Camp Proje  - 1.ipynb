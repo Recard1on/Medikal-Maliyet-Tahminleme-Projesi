{
 "cells": [
  {
   "cell_type": "markdown",
   "id": "013ea9f4",
   "metadata": {},
   "source": [
    "## gerekli kütüphaneleri ekliyoruz"
   ]
  },
  {
   "cell_type": "code",
   "execution_count": 322,
   "id": "6b6ca74f",
   "metadata": {},
   "outputs": [],
   "source": [
    "import pandas as pd \n",
    "import numpy as np \n",
    "import matplotlib.pyplot as plt\n",
    "import seaborn as sns\n",
    "%matplotlib inline\n",
    "import warnings\n",
    "warnings.filterwarnings('ignore')"
   ]
  },
  {
   "cell_type": "markdown",
   "id": "4329f543",
   "metadata": {},
   "source": [
    "## verimizi okuduk"
   ]
  },
  {
   "cell_type": "code",
   "execution_count": 323,
   "id": "ae29b760",
   "metadata": {},
   "outputs": [],
   "source": [
    "df = pd.read_csv(\"insurance.csv\")"
   ]
  },
  {
   "cell_type": "code",
   "execution_count": 324,
   "id": "2dd0a401",
   "metadata": {
    "scrolled": false
   },
   "outputs": [
    {
     "data": {
      "text/html": [
       "<div>\n",
       "<style scoped>\n",
       "    .dataframe tbody tr th:only-of-type {\n",
       "        vertical-align: middle;\n",
       "    }\n",
       "\n",
       "    .dataframe tbody tr th {\n",
       "        vertical-align: top;\n",
       "    }\n",
       "\n",
       "    .dataframe thead th {\n",
       "        text-align: right;\n",
       "    }\n",
       "</style>\n",
       "<table border=\"1\" class=\"dataframe\">\n",
       "  <thead>\n",
       "    <tr style=\"text-align: right;\">\n",
       "      <th></th>\n",
       "      <th>age</th>\n",
       "      <th>sex</th>\n",
       "      <th>bmi</th>\n",
       "      <th>children</th>\n",
       "      <th>smoker</th>\n",
       "      <th>region</th>\n",
       "      <th>charges</th>\n",
       "    </tr>\n",
       "  </thead>\n",
       "  <tbody>\n",
       "    <tr>\n",
       "      <th>0</th>\n",
       "      <td>19</td>\n",
       "      <td>female</td>\n",
       "      <td>27.900</td>\n",
       "      <td>0</td>\n",
       "      <td>yes</td>\n",
       "      <td>southwest</td>\n",
       "      <td>16884.92400</td>\n",
       "    </tr>\n",
       "    <tr>\n",
       "      <th>1</th>\n",
       "      <td>18</td>\n",
       "      <td>male</td>\n",
       "      <td>33.770</td>\n",
       "      <td>1</td>\n",
       "      <td>no</td>\n",
       "      <td>southeast</td>\n",
       "      <td>1725.55230</td>\n",
       "    </tr>\n",
       "    <tr>\n",
       "      <th>2</th>\n",
       "      <td>28</td>\n",
       "      <td>male</td>\n",
       "      <td>33.000</td>\n",
       "      <td>3</td>\n",
       "      <td>no</td>\n",
       "      <td>southeast</td>\n",
       "      <td>4449.46200</td>\n",
       "    </tr>\n",
       "    <tr>\n",
       "      <th>3</th>\n",
       "      <td>33</td>\n",
       "      <td>male</td>\n",
       "      <td>22.705</td>\n",
       "      <td>0</td>\n",
       "      <td>no</td>\n",
       "      <td>northwest</td>\n",
       "      <td>21984.47061</td>\n",
       "    </tr>\n",
       "    <tr>\n",
       "      <th>4</th>\n",
       "      <td>32</td>\n",
       "      <td>male</td>\n",
       "      <td>28.880</td>\n",
       "      <td>0</td>\n",
       "      <td>no</td>\n",
       "      <td>northwest</td>\n",
       "      <td>3866.85520</td>\n",
       "    </tr>\n",
       "    <tr>\n",
       "      <th>...</th>\n",
       "      <td>...</td>\n",
       "      <td>...</td>\n",
       "      <td>...</td>\n",
       "      <td>...</td>\n",
       "      <td>...</td>\n",
       "      <td>...</td>\n",
       "      <td>...</td>\n",
       "    </tr>\n",
       "    <tr>\n",
       "      <th>1333</th>\n",
       "      <td>50</td>\n",
       "      <td>male</td>\n",
       "      <td>30.970</td>\n",
       "      <td>3</td>\n",
       "      <td>no</td>\n",
       "      <td>northwest</td>\n",
       "      <td>10600.54830</td>\n",
       "    </tr>\n",
       "    <tr>\n",
       "      <th>1334</th>\n",
       "      <td>18</td>\n",
       "      <td>female</td>\n",
       "      <td>31.920</td>\n",
       "      <td>0</td>\n",
       "      <td>no</td>\n",
       "      <td>northeast</td>\n",
       "      <td>2205.98080</td>\n",
       "    </tr>\n",
       "    <tr>\n",
       "      <th>1335</th>\n",
       "      <td>18</td>\n",
       "      <td>female</td>\n",
       "      <td>36.850</td>\n",
       "      <td>0</td>\n",
       "      <td>no</td>\n",
       "      <td>southeast</td>\n",
       "      <td>1629.83350</td>\n",
       "    </tr>\n",
       "    <tr>\n",
       "      <th>1336</th>\n",
       "      <td>21</td>\n",
       "      <td>female</td>\n",
       "      <td>25.800</td>\n",
       "      <td>0</td>\n",
       "      <td>no</td>\n",
       "      <td>southwest</td>\n",
       "      <td>2007.94500</td>\n",
       "    </tr>\n",
       "    <tr>\n",
       "      <th>1337</th>\n",
       "      <td>61</td>\n",
       "      <td>female</td>\n",
       "      <td>29.070</td>\n",
       "      <td>0</td>\n",
       "      <td>yes</td>\n",
       "      <td>northwest</td>\n",
       "      <td>29141.36030</td>\n",
       "    </tr>\n",
       "  </tbody>\n",
       "</table>\n",
       "<p>1338 rows × 7 columns</p>\n",
       "</div>"
      ],
      "text/plain": [
       "      age     sex     bmi  children smoker     region      charges\n",
       "0      19  female  27.900         0    yes  southwest  16884.92400\n",
       "1      18    male  33.770         1     no  southeast   1725.55230\n",
       "2      28    male  33.000         3     no  southeast   4449.46200\n",
       "3      33    male  22.705         0     no  northwest  21984.47061\n",
       "4      32    male  28.880         0     no  northwest   3866.85520\n",
       "...   ...     ...     ...       ...    ...        ...          ...\n",
       "1333   50    male  30.970         3     no  northwest  10600.54830\n",
       "1334   18  female  31.920         0     no  northeast   2205.98080\n",
       "1335   18  female  36.850         0     no  southeast   1629.83350\n",
       "1336   21  female  25.800         0     no  southwest   2007.94500\n",
       "1337   61  female  29.070         0    yes  northwest  29141.36030\n",
       "\n",
       "[1338 rows x 7 columns]"
      ]
     },
     "execution_count": 324,
     "metadata": {},
     "output_type": "execute_result"
    }
   ],
   "source": [
    "df"
   ]
  },
  {
   "cell_type": "code",
   "execution_count": 325,
   "id": "99903014",
   "metadata": {},
   "outputs": [],
   "source": [
    "## boş değerler var mı diye kontrol ettim"
   ]
  },
  {
   "cell_type": "code",
   "execution_count": 326,
   "id": "11d8f080",
   "metadata": {
    "scrolled": true
   },
   "outputs": [
    {
     "data": {
      "text/plain": [
       "age         False\n",
       "sex         False\n",
       "bmi         False\n",
       "children    False\n",
       "smoker      False\n",
       "region      False\n",
       "charges     False\n",
       "dtype: bool"
      ]
     },
     "execution_count": 326,
     "metadata": {},
     "output_type": "execute_result"
    }
   ],
   "source": [
    "df.isnull().any()"
   ]
  },
  {
   "cell_type": "code",
   "execution_count": 327,
   "id": "288b8afe",
   "metadata": {},
   "outputs": [],
   "source": [
    "## kaç tane eşsiz değer var diye baktım"
   ]
  },
  {
   "cell_type": "code",
   "execution_count": 328,
   "id": "296bec7f",
   "metadata": {},
   "outputs": [
    {
     "data": {
      "text/plain": [
       "age           47\n",
       "sex            2\n",
       "bmi          548\n",
       "children       6\n",
       "smoker         2\n",
       "region         4\n",
       "charges     1337\n",
       "dtype: int64"
      ]
     },
     "execution_count": 328,
     "metadata": {},
     "output_type": "execute_result"
    }
   ],
   "source": [
    "df.nunique()"
   ]
  },
  {
   "cell_type": "code",
   "execution_count": 329,
   "id": "d81128e9",
   "metadata": {
    "scrolled": true
   },
   "outputs": [
    {
     "data": {
      "text/plain": [
       "0       27.900\n",
       "1       33.770\n",
       "2       33.000\n",
       "3       22.705\n",
       "4       28.880\n",
       "         ...  \n",
       "1333    30.970\n",
       "1334    31.920\n",
       "1335    36.850\n",
       "1336    25.800\n",
       "1337    29.070\n",
       "Name: bmi, Length: 1338, dtype: float64"
      ]
     },
     "execution_count": 329,
     "metadata": {},
     "output_type": "execute_result"
    }
   ],
   "source": [
    "df[\"bmi\"]"
   ]
  },
  {
   "cell_type": "code",
   "execution_count": 330,
   "id": "73e40d29",
   "metadata": {},
   "outputs": [],
   "source": [
    "## bmi kolonunun dağılımını çizdirdim"
   ]
  },
  {
   "cell_type": "code",
   "execution_count": 331,
   "id": "5e2d1f3c",
   "metadata": {
    "scrolled": true
   },
   "outputs": [
    {
     "data": {
      "text/plain": [
       "(array([ 30., 127., 234., 319., 288., 195.,  96.,  32.,  14.,   3.]),\n",
       " array([15.96 , 19.677, 23.394, 27.111, 30.828, 34.545, 38.262, 41.979,\n",
       "        45.696, 49.413, 53.13 ]),\n",
       " <BarContainer object of 10 artists>)"
      ]
     },
     "execution_count": 331,
     "metadata": {},
     "output_type": "execute_result"
    },
    {
     "data": {
      "image/png": "[encoded data removed]",
      "text/plain": [
       "<Figure size 432x288 with 1 Axes>"
      ]
     },
     "metadata": {
      "needs_background": "light"
     },
     "output_type": "display_data"
    }
   ],
   "source": [
    "plt.hist(df[\"bmi\"])"
   ]
  },
  {
   "cell_type": "code",
   "execution_count": 332,
   "id": "3b0fb719",
   "metadata": {},
   "outputs": [],
   "source": [
    "## sigara içenlerin oranlarını grafikle çizdirdim"
   ]
  },
  {
   "cell_type": "code",
   "execution_count": 333,
   "id": "b7cb01d7",
   "metadata": {
    "scrolled": true
   },
   "outputs": [
    {
     "data": {
      "text/plain": [
       "<AxesSubplot:>"
      ]
     },
     "execution_count": 333,
     "metadata": {},
     "output_type": "execute_result"
    },
    {
     "data": {
      "image/png": "[encoded data removed]",
      "text/plain": [
       "<Figure size 432x288 with 1 Axes>"
      ]
     },
     "metadata": {
      "needs_background": "light"
     },
     "output_type": "display_data"
    }
   ],
   "source": [
    "df[\"smoker\"].value_counts().plot(kind=\"bar\")"
   ]
  },
  {
   "cell_type": "code",
   "execution_count": 334,
   "id": "9a051d21",
   "metadata": {},
   "outputs": [],
   "source": [
    "## sigara içenlerin ve içmeyenlerin sağlık harcamalarının ortalamalarını gösterdim"
   ]
  },
  {
   "cell_type": "code",
   "execution_count": 335,
   "id": "be62dc97",
   "metadata": {},
   "outputs": [
    {
     "data": {
      "text/plain": [
       "8434.268297856199"
      ]
     },
     "execution_count": 335,
     "metadata": {},
     "output_type": "execute_result"
    }
   ],
   "source": [
    "df[df[\"smoker\"]==\"no\"][\"charges\"].mean()"
   ]
  },
  {
   "cell_type": "code",
   "execution_count": 336,
   "id": "57cc9a92",
   "metadata": {},
   "outputs": [
    {
     "data": {
      "text/plain": [
       "32050.23183153285"
      ]
     },
     "execution_count": 336,
     "metadata": {},
     "output_type": "execute_result"
    }
   ],
   "source": [
    "df[df[\"smoker\"]==\"yes\"][\"charges\"].mean()"
   ]
  },
  {
   "cell_type": "code",
   "execution_count": 337,
   "id": "2dd11956",
   "metadata": {},
   "outputs": [],
   "source": [
    "## bölgelerin dağılımını inceledik grafik olarak çizdirdik"
   ]
  },
  {
   "cell_type": "code",
   "execution_count": 338,
   "id": "3d32e3ec",
   "metadata": {
    "scrolled": true
   },
   "outputs": [
    {
     "data": {
      "text/plain": [
       "<AxesSubplot:>"
      ]
     },
     "execution_count": 338,
     "metadata": {},
     "output_type": "execute_result"
    },
    {
     "data": {
      "image/png": "[encoded data removed]",
      "text/plain": [
       "<Figure size 432x288 with 1 Axes>"
      ]
     },
     "metadata": {
      "needs_background": "light"
     },
     "output_type": "display_data"
    }
   ],
   "source": [
    "df[\"region\"].value_counts().plot(kind=\"bar\")"
   ]
  },
  {
   "cell_type": "code",
   "execution_count": 339,
   "id": "ff39cb3a",
   "metadata": {},
   "outputs": [],
   "source": [
    "## sigara içenlerin ve içmeyenlerin bölgere göre sayılarını listeleyip grafiklerini çizdirdim"
   ]
  },
  {
   "cell_type": "code",
   "execution_count": 340,
   "id": "708aabb5",
   "metadata": {},
   "outputs": [],
   "source": [
    "smoker_region_df = pd.DataFrame(df[df[\"smoker\"]==\"yes\"][\"region\"])"
   ]
  },
  {
   "cell_type": "code",
   "execution_count": 341,
   "id": "1e1182c3",
   "metadata": {},
   "outputs": [],
   "source": [
    "no_smoker_region_df = pd.DataFrame(df[df[\"smoker\"]==\"no\"][\"region\"])"
   ]
  },
  {
   "cell_type": "code",
   "execution_count": 342,
   "id": "619573f4",
   "metadata": {},
   "outputs": [
    {
     "data": {
      "text/html": [
       "<div>\n",
       "<style scoped>\n",
       "    .dataframe tbody tr th:only-of-type {\n",
       "        vertical-align: middle;\n",
       "    }\n",
       "\n",
       "    .dataframe tbody tr th {\n",
       "        vertical-align: top;\n",
       "    }\n",
       "\n",
       "    .dataframe thead th {\n",
       "        text-align: right;\n",
       "    }\n",
       "</style>\n",
       "<table border=\"1\" class=\"dataframe\">\n",
       "  <thead>\n",
       "    <tr style=\"text-align: right;\">\n",
       "      <th></th>\n",
       "      <th>region</th>\n",
       "    </tr>\n",
       "  </thead>\n",
       "  <tbody>\n",
       "    <tr>\n",
       "      <th>0</th>\n",
       "      <td>southwest</td>\n",
       "    </tr>\n",
       "    <tr>\n",
       "      <th>11</th>\n",
       "      <td>southeast</td>\n",
       "    </tr>\n",
       "    <tr>\n",
       "      <th>14</th>\n",
       "      <td>southeast</td>\n",
       "    </tr>\n",
       "    <tr>\n",
       "      <th>19</th>\n",
       "      <td>southwest</td>\n",
       "    </tr>\n",
       "    <tr>\n",
       "      <th>23</th>\n",
       "      <td>northeast</td>\n",
       "    </tr>\n",
       "    <tr>\n",
       "      <th>...</th>\n",
       "      <td>...</td>\n",
       "    </tr>\n",
       "    <tr>\n",
       "      <th>1313</th>\n",
       "      <td>southwest</td>\n",
       "    </tr>\n",
       "    <tr>\n",
       "      <th>1314</th>\n",
       "      <td>northwest</td>\n",
       "    </tr>\n",
       "    <tr>\n",
       "      <th>1321</th>\n",
       "      <td>northeast</td>\n",
       "    </tr>\n",
       "    <tr>\n",
       "      <th>1323</th>\n",
       "      <td>southeast</td>\n",
       "    </tr>\n",
       "    <tr>\n",
       "      <th>1337</th>\n",
       "      <td>northwest</td>\n",
       "    </tr>\n",
       "  </tbody>\n",
       "</table>\n",
       "<p>274 rows × 1 columns</p>\n",
       "</div>"
      ],
      "text/plain": [
       "         region\n",
       "0     southwest\n",
       "11    southeast\n",
       "14    southeast\n",
       "19    southwest\n",
       "23    northeast\n",
       "...         ...\n",
       "1313  southwest\n",
       "1314  northwest\n",
       "1321  northeast\n",
       "1323  southeast\n",
       "1337  northwest\n",
       "\n",
       "[274 rows x 1 columns]"
      ]
     },
     "execution_count": 342,
     "metadata": {},
     "output_type": "execute_result"
    }
   ],
   "source": [
    "smoker_region_df"
   ]
  },
  {
   "cell_type": "code",
   "execution_count": 343,
   "id": "b29b43eb",
   "metadata": {},
   "outputs": [
    {
     "data": {
      "text/html": [
       "<div>\n",
       "<style scoped>\n",
       "    .dataframe tbody tr th:only-of-type {\n",
       "        vertical-align: middle;\n",
       "    }\n",
       "\n",
       "    .dataframe tbody tr th {\n",
       "        vertical-align: top;\n",
       "    }\n",
       "\n",
       "    .dataframe thead th {\n",
       "        text-align: right;\n",
       "    }\n",
       "</style>\n",
       "<table border=\"1\" class=\"dataframe\">\n",
       "  <thead>\n",
       "    <tr style=\"text-align: right;\">\n",
       "      <th></th>\n",
       "      <th>region</th>\n",
       "    </tr>\n",
       "  </thead>\n",
       "  <tbody>\n",
       "    <tr>\n",
       "      <th>1</th>\n",
       "      <td>southeast</td>\n",
       "    </tr>\n",
       "    <tr>\n",
       "      <th>2</th>\n",
       "      <td>southeast</td>\n",
       "    </tr>\n",
       "    <tr>\n",
       "      <th>3</th>\n",
       "      <td>northwest</td>\n",
       "    </tr>\n",
       "    <tr>\n",
       "      <th>4</th>\n",
       "      <td>northwest</td>\n",
       "    </tr>\n",
       "    <tr>\n",
       "      <th>5</th>\n",
       "      <td>southeast</td>\n",
       "    </tr>\n",
       "    <tr>\n",
       "      <th>...</th>\n",
       "      <td>...</td>\n",
       "    </tr>\n",
       "    <tr>\n",
       "      <th>1332</th>\n",
       "      <td>southwest</td>\n",
       "    </tr>\n",
       "    <tr>\n",
       "      <th>1333</th>\n",
       "      <td>northwest</td>\n",
       "    </tr>\n",
       "    <tr>\n",
       "      <th>1334</th>\n",
       "      <td>northeast</td>\n",
       "    </tr>\n",
       "    <tr>\n",
       "      <th>1335</th>\n",
       "      <td>southeast</td>\n",
       "    </tr>\n",
       "    <tr>\n",
       "      <th>1336</th>\n",
       "      <td>southwest</td>\n",
       "    </tr>\n",
       "  </tbody>\n",
       "</table>\n",
       "<p>1064 rows × 1 columns</p>\n",
       "</div>"
      ],
      "text/plain": [
       "         region\n",
       "1     southeast\n",
       "2     southeast\n",
       "3     northwest\n",
       "4     northwest\n",
       "5     southeast\n",
       "...         ...\n",
       "1332  southwest\n",
       "1333  northwest\n",
       "1334  northeast\n",
       "1335  southeast\n",
       "1336  southwest\n",
       "\n",
       "[1064 rows x 1 columns]"
      ]
     },
     "execution_count": 343,
     "metadata": {},
     "output_type": "execute_result"
    }
   ],
   "source": [
    "no_smoker_region_df"
   ]
  },
  {
   "cell_type": "code",
   "execution_count": 344,
   "id": "0155ca3c",
   "metadata": {},
   "outputs": [
    {
     "data": {
      "text/plain": [
       "<AxesSubplot:>"
      ]
     },
     "execution_count": 344,
     "metadata": {},
     "output_type": "execute_result"
    },
    {
     "data": {
      "image/png": "[encoded data removed]",
      "text/plain": [
       "<Figure size 432x288 with 1 Axes>"
      ]
     },
     "metadata": {
      "needs_background": "light"
     },
     "output_type": "display_data"
    }
   ],
   "source": [
    "smoker_region_df[\"region\"].value_counts().plot(kind=\"bar\")"
   ]
  },
  {
   "cell_type": "code",
   "execution_count": 345,
   "id": "f65badea",
   "metadata": {
    "scrolled": true
   },
   "outputs": [
    {
     "data": {
      "text/plain": [
       "<AxesSubplot:>"
      ]
     },
     "execution_count": 345,
     "metadata": {},
     "output_type": "execute_result"
    },
    {
     "data": {
      "image/png": "[encoded data removed]",
      "text/plain": [
       "<Figure size 432x288 with 1 Axes>"
      ]
     },
     "metadata": {
      "needs_background": "light"
     },
     "output_type": "display_data"
    }
   ],
   "source": [
    "no_smoker_region_df[\"region\"].value_counts().plot(kind=\"bar\")"
   ]
  },
  {
   "cell_type": "code",
   "execution_count": 346,
   "id": "d7c48d95",
   "metadata": {},
   "outputs": [],
   "source": [
    "## kadın ve erkeklerin bmi oranlarını ayrı ayrı grafiğe yazdırdım"
   ]
  },
  {
   "cell_type": "code",
   "execution_count": 347,
   "id": "d9f9207f",
   "metadata": {},
   "outputs": [],
   "source": [
    "female_bmi_df = pd.DataFrame(df[df[\"sex\"]==\"female\"][\"bmi\"])"
   ]
  },
  {
   "cell_type": "code",
   "execution_count": 348,
   "id": "a89b307a",
   "metadata": {},
   "outputs": [],
   "source": [
    "male_bmi_df = pd.DataFrame(df[df[\"sex\"]==\"male\"][\"bmi\"])"
   ]
  },
  {
   "cell_type": "code",
   "execution_count": 349,
   "id": "ab1a20a6",
   "metadata": {},
   "outputs": [
    {
     "data": {
      "text/plain": [
       "(array([ 19.,  54.,  95., 132., 126.,  98.,  75.,  40.,  15.,   8.]),\n",
       " array([16.815 , 19.9405, 23.066 , 26.1915, 29.317 , 32.4425, 35.568 ,\n",
       "        38.6935, 41.819 , 44.9445, 48.07  ]),\n",
       " <BarContainer object of 10 artists>)"
      ]
     },
     "execution_count": 349,
     "metadata": {},
     "output_type": "execute_result"
    },
    {
     "data": {
      "image/png": "[encoded data removed]",
      "text/plain": [
       "<Figure size 432x288 with 1 Axes>"
      ]
     },
     "metadata": {
      "needs_background": "light"
     },
     "output_type": "display_data"
    }
   ],
   "source": [
    "plt.hist(female_bmi_df)"
   ]
  },
  {
   "cell_type": "code",
   "execution_count": 350,
   "id": "124995df",
   "metadata": {
    "scrolled": true
   },
   "outputs": [
    {
     "data": {
      "text/plain": [
       "(array([ 13.,  59., 115., 159., 153., 101.,  48.,  18.,   7.,   3.]),\n",
       " array([15.96 , 19.677, 23.394, 27.111, 30.828, 34.545, 38.262, 41.979,\n",
       "        45.696, 49.413, 53.13 ]),\n",
       " <BarContainer object of 10 artists>)"
      ]
     },
     "execution_count": 350,
     "metadata": {},
     "output_type": "execute_result"
    },
    {
     "data": {
      "image/png": "[encoded data removed]",
      "text/plain": [
       "<Figure size 432x288 with 1 Axes>"
      ]
     },
     "metadata": {
      "needs_background": "light"
     },
     "output_type": "display_data"
    }
   ],
   "source": [
    "plt.hist(male_bmi_df)"
   ]
  },
  {
   "cell_type": "code",
   "execution_count": 351,
   "id": "b5aebfa4",
   "metadata": {},
   "outputs": [],
   "source": [
    "## hangi bölgede en fazla çocuk sayısı var onu bulmak istedik, önce bir kişinin en fazla kaç çocuğu var ona baktık "
   ]
  },
  {
   "cell_type": "code",
   "execution_count": 352,
   "id": "30e62b2d",
   "metadata": {},
   "outputs": [
    {
     "data": {
      "text/plain": [
       "1272    5\n",
       "1130    5\n",
       "1116    5\n",
       "568     5\n",
       "1245    5\n",
       "       ..\n",
       "618     0\n",
       "619     0\n",
       "623     0\n",
       "624     0\n",
       "1337    0\n",
       "Name: children, Length: 1338, dtype: int64"
      ]
     },
     "execution_count": 352,
     "metadata": {},
     "output_type": "execute_result"
    }
   ],
   "source": [
    "df[\"children\"].sort_values(ascending = False)"
   ]
  },
  {
   "cell_type": "code",
   "execution_count": 353,
   "id": "e8ef6ab8",
   "metadata": {},
   "outputs": [
    {
     "data": {
      "text/plain": [
       "age                  43\n",
       "sex                male\n",
       "bmi               25.52\n",
       "children              5\n",
       "smoker               no\n",
       "region        southeast\n",
       "charges     14478.33015\n",
       "Name: 1272, dtype: object"
      ]
     },
     "execution_count": 353,
     "metadata": {},
     "output_type": "execute_result"
    }
   ],
   "source": [
    "df.iloc[1272]"
   ]
  },
  {
   "cell_type": "code",
   "execution_count": 354,
   "id": "4e3c6556",
   "metadata": {},
   "outputs": [],
   "source": [
    "southwest_children_df = pd.DataFrame(df[df[\"region\"]==\"southwest\"][\"children\"])"
   ]
  },
  {
   "cell_type": "code",
   "execution_count": 355,
   "id": "0f175916",
   "metadata": {},
   "outputs": [
    {
     "data": {
      "text/plain": [
       "371"
      ]
     },
     "execution_count": 355,
     "metadata": {},
     "output_type": "execute_result"
    }
   ],
   "source": [
    "southwest_children_df[\"children\"].sum()"
   ]
  },
  {
   "cell_type": "code",
   "execution_count": 356,
   "id": "cbfbc1af",
   "metadata": {},
   "outputs": [
    {
     "data": {
      "text/plain": [
       "(array([138.,   0.,  78.,   0.,  57.,   0.,  37.,   0.,   7.,   8.]),\n",
       " array([0. , 0.5, 1. , 1.5, 2. , 2.5, 3. , 3.5, 4. , 4.5, 5. ]),\n",
       " <BarContainer object of 10 artists>)"
      ]
     },
     "execution_count": 356,
     "metadata": {},
     "output_type": "execute_result"
    },
    {
     "data": {
      "image/png": "[encoded data removed]",
      "text/plain": [
       "<Figure size 432x288 with 1 Axes>"
      ]
     },
     "metadata": {
      "needs_background": "light"
     },
     "output_type": "display_data"
    }
   ],
   "source": [
    "plt.hist(southwest_children_df)"
   ]
  },
  {
   "cell_type": "code",
   "execution_count": 357,
   "id": "24a065c7",
   "metadata": {},
   "outputs": [],
   "source": [
    "northwest_children_df = pd.DataFrame(df[df[\"region\"]==\"northwest\"][\"children\"])"
   ]
  },
  {
   "cell_type": "code",
   "execution_count": 358,
   "id": "28f745d7",
   "metadata": {},
   "outputs": [
    {
     "data": {
      "text/plain": [
       "373"
      ]
     },
     "execution_count": 358,
     "metadata": {},
     "output_type": "execute_result"
    }
   ],
   "source": [
    "northwest_children_df[\"children\"].sum()"
   ]
  },
  {
   "cell_type": "code",
   "execution_count": 359,
   "id": "415c7201",
   "metadata": {},
   "outputs": [
    {
     "data": {
      "text/plain": [
       "(array([132.,   0.,  74.,   0.,  66.,   0.,  46.,   0.,   6.,   1.]),\n",
       " array([0. , 0.5, 1. , 1.5, 2. , 2.5, 3. , 3.5, 4. , 4.5, 5. ]),\n",
       " <BarContainer object of 10 artists>)"
      ]
     },
     "execution_count": 359,
     "metadata": {},
     "output_type": "execute_result"
    },
    {
     "data": {
      "image/png": "[encoded data removed]",
      "text/plain": [
       "<Figure size 432x288 with 1 Axes>"
      ]
     },
     "metadata": {
      "needs_background": "light"
     },
     "output_type": "display_data"
    }
   ],
   "source": [
    "plt.hist(northwest_children_df)"
   ]
  },
  {
   "cell_type": "code",
   "execution_count": 360,
   "id": "975b7f15",
   "metadata": {},
   "outputs": [],
   "source": [
    "southeast_children_df = pd.DataFrame(df[df[\"region\"]==\"southeast\"][\"children\"])"
   ]
  },
  {
   "cell_type": "code",
   "execution_count": 361,
   "id": "5314540b",
   "metadata": {},
   "outputs": [],
   "source": [
    "## en fazla çocuk sayısı güneydoğu bölgesinde çıktı"
   ]
  },
  {
   "cell_type": "code",
   "execution_count": 362,
   "id": "3aaa5c8d",
   "metadata": {},
   "outputs": [
    {
     "data": {
      "text/plain": [
       "382"
      ]
     },
     "execution_count": 362,
     "metadata": {},
     "output_type": "execute_result"
    }
   ],
   "source": [
    "southeast_children_df[\"children\"].sum()"
   ]
  },
  {
   "cell_type": "code",
   "execution_count": 363,
   "id": "586f5d3f",
   "metadata": {},
   "outputs": [],
   "source": [
    "## bu bölgedeki çocuk sayılarının kaçar tane olduklarının dağılım grafiğini çizdirdim"
   ]
  },
  {
   "cell_type": "code",
   "execution_count": 364,
   "id": "57ef88c7",
   "metadata": {},
   "outputs": [
    {
     "data": {
      "text/plain": [
       "(array([157.,   0.,  95.,   0.,  66.,   0.,  35.,   0.,   5.,   6.]),\n",
       " array([0. , 0.5, 1. , 1.5, 2. , 2.5, 3. , 3.5, 4. , 4.5, 5. ]),\n",
       " <BarContainer object of 10 artists>)"
      ]
     },
     "execution_count": 364,
     "metadata": {},
     "output_type": "execute_result"
    },
    {
     "data": {
      "image/png": "[encoded data removed]",
      "text/plain": [
       "<Figure size 432x288 with 1 Axes>"
      ]
     },
     "metadata": {
      "needs_background": "light"
     },
     "output_type": "display_data"
    }
   ],
   "source": [
    "plt.hist(southeast_children_df)"
   ]
  },
  {
   "cell_type": "code",
   "execution_count": 365,
   "id": "7f4e22c0",
   "metadata": {},
   "outputs": [],
   "source": [
    "northeast_children_df = pd.DataFrame(df[df[\"region\"]==\"northeast\"][\"children\"])"
   ]
  },
  {
   "cell_type": "code",
   "execution_count": 366,
   "id": "e7e4b7b8",
   "metadata": {},
   "outputs": [
    {
     "data": {
      "text/plain": [
       "339"
      ]
     },
     "execution_count": 366,
     "metadata": {},
     "output_type": "execute_result"
    }
   ],
   "source": [
    "northeast_children_df[\"children\"].sum()"
   ]
  },
  {
   "cell_type": "code",
   "execution_count": 367,
   "id": "4e1a7218",
   "metadata": {
    "scrolled": true
   },
   "outputs": [
    {
     "data": {
      "text/plain": [
       "(array([147.,   0.,  77.,   0.,  51.,   0.,  39.,   0.,   7.,   3.]),\n",
       " array([0. , 0.5, 1. , 1.5, 2. , 2.5, 3. , 3.5, 4. , 4.5, 5. ]),\n",
       " <BarContainer object of 10 artists>)"
      ]
     },
     "execution_count": 367,
     "metadata": {},
     "output_type": "execute_result"
    },
    {
     "data": {
      "image/png": "[encoded data removed]",
      "text/plain": [
       "<Figure size 432x288 with 1 Axes>"
      ]
     },
     "metadata": {
      "needs_background": "light"
     },
     "output_type": "display_data"
    }
   ],
   "source": [
    "plt.hist(northeast_children_df)"
   ]
  },
  {
   "cell_type": "code",
   "execution_count": 368,
   "id": "d50caa76",
   "metadata": {},
   "outputs": [],
   "source": [
    "## yaş oranlarının bmi etkileşinin incelemek istedim fakat çok fazla yaş olduğu için gruplayarak ilerledim ve bunları listeledim"
   ]
  },
  {
   "cell_type": "code",
   "execution_count": 369,
   "id": "f616a3cc",
   "metadata": {
    "scrolled": true
   },
   "outputs": [
    {
     "data": {
      "text/plain": [
       "335     64\n",
       "603     64\n",
       "752     64\n",
       "1265    64\n",
       "534     64\n",
       "        ..\n",
       "942     18\n",
       "46      18\n",
       "295     18\n",
       "50      18\n",
       "648     18\n",
       "Name: age, Length: 1338, dtype: int64"
      ]
     },
     "execution_count": 369,
     "metadata": {},
     "output_type": "execute_result"
    }
   ],
   "source": [
    "df[\"age\"].sort_values(ascending = False)"
   ]
  },
  {
   "cell_type": "code",
   "execution_count": 370,
   "id": "bededdfe",
   "metadata": {},
   "outputs": [],
   "source": [
    "## ve bunların grafiklerini sayılarını görsel olarak görmek için çizdirdim"
   ]
  },
  {
   "cell_type": "code",
   "execution_count": 371,
   "id": "c622ce17",
   "metadata": {},
   "outputs": [
    {
     "data": {
      "text/plain": [
       "(array([ 9., 39., 53., 74., 61., 39., 22.,  6.,  0.,  3.]),\n",
       " array([15.96 , 19.677, 23.394, 27.111, 30.828, 34.545, 38.262, 41.979,\n",
       "        45.696, 49.413, 53.13 ]),\n",
       " <BarContainer object of 10 artists>)"
      ]
     },
     "execution_count": 371,
     "metadata": {},
     "output_type": "execute_result"
    },
    {
     "data": {
      "image/png": "[encoded data removed]",
      "text/plain": [
       "<Figure size 432x288 with 1 Axes>"
      ]
     },
     "metadata": {
      "needs_background": "light"
     },
     "output_type": "display_data"
    }
   ],
   "source": [
    "plt.hist(pd.DataFrame(df.query(\"age >= 18 and age <= 25\")[\"bmi\"]))"
   ]
  },
  {
   "cell_type": "code",
   "execution_count": 372,
   "id": "6eaca46b",
   "metadata": {},
   "outputs": [
    {
     "data": {
      "text/plain": [
       "(array([11., 18., 30., 32., 48., 30., 24., 12.,  7.,  5.]),\n",
       " array([17.195 , 20.1285, 23.062 , 25.9955, 28.929 , 31.8625, 34.796 ,\n",
       "        37.7295, 40.663 , 43.5965, 46.53  ]),\n",
       " <BarContainer object of 10 artists>)"
      ]
     },
     "execution_count": 372,
     "metadata": {},
     "output_type": "execute_result"
    },
    {
     "data": {
      "image/png": "[encoded data removed]",
      "text/plain": [
       "<Figure size 432x288 with 1 Axes>"
      ]
     },
     "metadata": {
      "needs_background": "light"
     },
     "output_type": "display_data"
    }
   ],
   "source": [
    "plt.hist(pd.DataFrame(df.query(\"age >= 26 and age <= 33\")[\"bmi\"]))"
   ]
  },
  {
   "cell_type": "code",
   "execution_count": 373,
   "id": "ee7a67e3",
   "metadata": {},
   "outputs": [
    {
     "data": {
      "text/plain": [
       "(array([ 9., 14., 21., 44., 41., 39., 18.,  9.,  7.,  3.]),\n",
       " array([16.815 , 19.8935, 22.972 , 26.0505, 29.129 , 32.2075, 35.286 ,\n",
       "        38.3645, 41.443 , 44.5215, 47.6   ]),\n",
       " <BarContainer object of 10 artists>)"
      ]
     },
     "execution_count": 373,
     "metadata": {},
     "output_type": "execute_result"
    },
    {
     "data": {
      "image/png": "[encoded data removed]",
      "text/plain": [
       "<Figure size 432x288 with 1 Axes>"
      ]
     },
     "metadata": {
      "needs_background": "light"
     },
     "output_type": "display_data"
    }
   ],
   "source": [
    "plt.hist(pd.DataFrame(df.query(\"age >= 34 and age <= 41\")[\"bmi\"]))"
   ]
  },
  {
   "cell_type": "code",
   "execution_count": 374,
   "id": "eb0b7b0f",
   "metadata": {},
   "outputs": [
    {
     "data": {
      "text/plain": [
       "(array([11., 25., 48., 40., 33., 31., 18., 11.,  4.,  4.]),\n",
       " array([19.19 , 22.078, 24.966, 27.854, 30.742, 33.63 , 36.518, 39.406,\n",
       "        42.294, 45.182, 48.07 ]),\n",
       " <BarContainer object of 10 artists>)"
      ]
     },
     "execution_count": 374,
     "metadata": {},
     "output_type": "execute_result"
    },
    {
     "data": {
      "image/png": "[encoded data removed]",
      "text/plain": [
       "<Figure size 432x288 with 1 Axes>"
      ]
     },
     "metadata": {
      "needs_background": "light"
     },
     "output_type": "display_data"
    }
   ],
   "source": [
    "plt.hist(pd.DataFrame(df.query(\"age >= 42 and age <= 49\")[\"bmi\"]))"
   ]
  },
  {
   "cell_type": "code",
   "execution_count": 375,
   "id": "7093944f",
   "metadata": {},
   "outputs": [
    {
     "data": {
      "text/plain": [
       "(array([ 8., 17., 32., 32., 47., 30., 28., 15.,  7.,  5.]),\n",
       " array([18.05 , 21.019, 23.988, 26.957, 29.926, 32.895, 35.864, 38.833,\n",
       "        41.802, 44.771, 47.74 ]),\n",
       " <BarContainer object of 10 artists>)"
      ]
     },
     "execution_count": 375,
     "metadata": {},
     "output_type": "execute_result"
    },
    {
     "data": {
      "image/png": "[encoded data removed]",
      "text/plain": [
       "<Figure size 432x288 with 1 Axes>"
      ]
     },
     "metadata": {
      "needs_background": "light"
     },
     "output_type": "display_data"
    }
   ],
   "source": [
    "plt.hist(pd.DataFrame(df.query(\"age >= 50 and age <= 57\")[\"bmi\"]))"
   ]
  },
  {
   "cell_type": "code",
   "execution_count": 376,
   "id": "2fe35647",
   "metadata": {
    "scrolled": true
   },
   "outputs": [
    {
     "data": {
      "text/plain": [
       "(array([ 3., 13., 27., 24., 36., 25., 25.,  8.,  2.,  1.]),\n",
       " array([18.335 , 21.4075, 24.48  , 27.5525, 30.625 , 33.6975, 36.77  ,\n",
       "        39.8425, 42.915 , 45.9875, 49.06  ]),\n",
       " <BarContainer object of 10 artists>)"
      ]
     },
     "execution_count": 376,
     "metadata": {},
     "output_type": "execute_result"
    },
    {
     "data": {
      "image/png": "[encoded data removed]",
      "text/plain": [
       "<Figure size 432x288 with 1 Axes>"
      ]
     },
     "metadata": {
      "needs_background": "light"
     },
     "output_type": "display_data"
    }
   ],
   "source": [
    "plt.hist(pd.DataFrame(df.query(\"age >= 58 and age <= 64\")[\"bmi\"]))"
   ]
  },
  {
   "cell_type": "code",
   "execution_count": 377,
   "id": "dbd87623",
   "metadata": {},
   "outputs": [],
   "source": [
    "## burada da yine aynı şekilde çocuk sayısının bmi üzerinde etkisini görmek incelemek için her yaş için ayrı ayrı grafik\n",
    "## çizdirip inceledim"
   ]
  },
  {
   "cell_type": "code",
   "execution_count": 378,
   "id": "ca2b03a7",
   "metadata": {},
   "outputs": [
    {
     "data": {
      "text/plain": [
       "(array([ 12.,  62., 100., 135., 119.,  80.,  53.,   9.,   3.,   1.]),\n",
       " array([15.96 , 19.677, 23.394, 27.111, 30.828, 34.545, 38.262, 41.979,\n",
       "        45.696, 49.413, 53.13 ]),\n",
       " <BarContainer object of 10 artists>)"
      ]
     },
     "execution_count": 378,
     "metadata": {},
     "output_type": "execute_result"
    },
    {
     "data": {
      "image/png": "[encoded data removed]",
      "text/plain": [
       "<Figure size 432x288 with 1 Axes>"
      ]
     },
     "metadata": {
      "needs_background": "light"
     },
     "output_type": "display_data"
    }
   ],
   "source": [
    "plt.hist(pd.DataFrame(df[df[\"children\"]==0][\"bmi\"]))"
   ]
  },
  {
   "cell_type": "code",
   "execution_count": 379,
   "id": "ee2ba25b",
   "metadata": {},
   "outputs": [
    {
     "data": {
      "text/plain": [
       "(array([12., 27., 63., 78., 66., 46., 17.,  9.,  4.,  2.]),\n",
       " array([16.815 , 20.3915, 23.968 , 27.5445, 31.121 , 34.6975, 38.274 ,\n",
       "        41.8505, 45.427 , 49.0035, 52.58  ]),\n",
       " <BarContainer object of 10 artists>)"
      ]
     },
     "execution_count": 379,
     "metadata": {},
     "output_type": "execute_result"
    },
    {
     "data": {
      "image/png": "[encoded data removed]",
      "text/plain": [
       "<Figure size 432x288 with 1 Axes>"
      ]
     },
     "metadata": {
      "needs_background": "light"
     },
     "output_type": "display_data"
    }
   ],
   "source": [
    "plt.hist(pd.DataFrame(df[df[\"children\"]==1][\"bmi\"]))"
   ]
  },
  {
   "cell_type": "code",
   "execution_count": 380,
   "id": "ceed860d",
   "metadata": {},
   "outputs": [
    {
     "data": {
      "text/plain": [
       "(array([ 8., 17., 39., 28., 51., 38., 37.,  8.,  7.,  7.]),\n",
       " array([16.815 , 19.9405, 23.066 , 26.1915, 29.317 , 32.4425, 35.568 ,\n",
       "        38.6935, 41.819 , 44.9445, 48.07  ]),\n",
       " <BarContainer object of 10 artists>)"
      ]
     },
     "execution_count": 380,
     "metadata": {},
     "output_type": "execute_result"
    },
    {
     "data": {
      "image/png": "[encoded data removed]",
      "text/plain": [
       "<Figure size 432x288 with 1 Axes>"
      ]
     },
     "metadata": {
      "needs_background": "light"
     },
     "output_type": "display_data"
    }
   ],
   "source": [
    "plt.hist(pd.DataFrame(df[df[\"children\"]==2][\"bmi\"]))"
   ]
  },
  {
   "cell_type": "code",
   "execution_count": 381,
   "id": "8ff24cb5",
   "metadata": {},
   "outputs": [
    {
     "data": {
      "text/plain": [
       "(array([10., 16., 13., 30., 34., 21., 17.,  9.,  4.,  3.]),\n",
       " array([18.905 , 21.6675, 24.43  , 27.1925, 29.955 , 32.7175, 35.48  ,\n",
       "        38.2425, 41.005 , 43.7675, 46.53  ]),\n",
       " <BarContainer object of 10 artists>)"
      ]
     },
     "execution_count": 381,
     "metadata": {},
     "output_type": "execute_result"
    },
    {
     "data": {
      "image/png": "[encoded data removed]",
      "text/plain": [
       "<Figure size 432x288 with 1 Axes>"
      ]
     },
     "metadata": {
      "needs_background": "light"
     },
     "output_type": "display_data"
    }
   ],
   "source": [
    "plt.hist(pd.DataFrame(df[df[\"children\"]==3][\"bmi\"]))"
   ]
  },
  {
   "cell_type": "code",
   "execution_count": 382,
   "id": "cd07910b",
   "metadata": {},
   "outputs": [
    {
     "data": {
      "text/plain": [
       "(array([3., 1., 7., 3., 1., 6., 1., 0., 1., 2.]),\n",
       " array([24.415 , 26.1205, 27.826 , 29.5315, 31.237 , 32.9425, 34.648 ,\n",
       "        36.3535, 38.059 , 39.7645, 41.47  ]),\n",
       " <BarContainer object of 10 artists>)"
      ]
     },
     "execution_count": 382,
     "metadata": {},
     "output_type": "execute_result"
    },
    {
     "data": {
      "image/png": "[encoded data removed]",
      "text/plain": [
       "<Figure size 432x288 with 1 Axes>"
      ]
     },
     "metadata": {
      "needs_background": "light"
     },
     "output_type": "display_data"
    }
   ],
   "source": [
    "plt.hist(pd.DataFrame(df[df[\"children\"]==4][\"bmi\"]))"
   ]
  },
  {
   "cell_type": "code",
   "execution_count": 383,
   "id": "b3014b53",
   "metadata": {
    "scrolled": true
   },
   "outputs": [
    {
     "data": {
      "text/plain": [
       "(array([1., 2., 5., 3., 2., 2., 1., 0., 1., 1.]),\n",
       " array([18.3  , 21.145, 23.99 , 26.835, 29.68 , 32.525, 35.37 , 38.215,\n",
       "        41.06 , 43.905, 46.75 ]),\n",
       " <BarContainer object of 10 artists>)"
      ]
     },
     "execution_count": 383,
     "metadata": {},
     "output_type": "execute_result"
    },
    {
     "data": {
      "image/png": "[encoded data removed]",
      "text/plain": [
       "<Figure size 432x288 with 1 Axes>"
      ]
     },
     "metadata": {
      "needs_background": "light"
     },
     "output_type": "display_data"
    }
   ],
   "source": [
    "plt.hist(pd.DataFrame(df[df[\"children\"]==5][\"bmi\"]))"
   ]
  },
  {
   "cell_type": "code",
   "execution_count": 384,
   "id": "37749bc8",
   "metadata": {},
   "outputs": [],
   "source": [
    "## burada da bmi ile yapaılan harcamaların ilişkilerini incelemek istedim önce bmi değerlerini sıraladım min max değerlerini görmek için \n",
    "## yine çok fazla bmi değeri olduğundan bir gruplama yaptım ve bu gruplara göre listeleyip grafikleştirdim "
   ]
  },
  {
   "cell_type": "code",
   "execution_count": 385,
   "id": "bdbd53e7",
   "metadata": {},
   "outputs": [
    {
     "data": {
      "text/plain": [
       "172     15.960\n",
       "428     16.815\n",
       "1226    16.815\n",
       "412     17.195\n",
       "1286    17.290\n",
       "         ...  \n",
       "286     48.070\n",
       "116     49.060\n",
       "847     50.380\n",
       "1047    52.580\n",
       "1317    53.130\n",
       "Name: bmi, Length: 1338, dtype: float64"
      ]
     },
     "execution_count": 385,
     "metadata": {},
     "output_type": "execute_result"
    }
   ],
   "source": [
    "df[\"bmi\"].sort_values()"
   ]
  },
  {
   "cell_type": "code",
   "execution_count": 386,
   "id": "a71d2451",
   "metadata": {},
   "outputs": [
    {
     "data": {
      "text/plain": [
       "(array([70., 43., 39., 34., 17., 16., 17.,  8.,  1.,  2.]),\n",
       " array([ 1121.8739  ,  4516.623962,  7911.374024, 11306.124086,\n",
       "        14700.874148, 18095.62421 , 21490.374272, 24885.124334,\n",
       "        28279.874396, 31674.624458, 35069.37452 ]),\n",
       " <BarContainer object of 10 artists>)"
      ]
     },
     "execution_count": 386,
     "metadata": {},
     "output_type": "execute_result"
    },
    {
     "data": {
      "image/png": "[encoded data removed]",
      "text/plain": [
       "<Figure size 432x288 with 1 Axes>"
      ]
     },
     "metadata": {
      "needs_background": "light"
     },
     "output_type": "display_data"
    }
   ],
   "source": [
    "plt.hist(pd.DataFrame(df.query(\"bmi >= 15 and bmi <= 25\")[\"charges\"]))"
   ]
  },
  {
   "cell_type": "code",
   "execution_count": 387,
   "id": "80bd35d5",
   "metadata": {},
   "outputs": [
    {
     "data": {
      "text/plain": [
       "(array([306., 226.,  70.,  43.,  23.,  43.,  35.,  14.,   2.,   2.]),\n",
       " array([ 1131.5066  ,  7277.643249, 13423.779898, 19569.916547,\n",
       "        25716.053196, 31862.189845, 38008.326494, 44154.463143,\n",
       "        50300.599792, 56446.736441, 62592.87309 ]),\n",
       " <BarContainer object of 10 artists>)"
      ]
     },
     "execution_count": 387,
     "metadata": {},
     "output_type": "execute_result"
    },
    {
     "data": {
      "image/png": "[encoded data removed]",
      "text/plain": [
       "<Figure size 432x288 with 1 Axes>"
      ]
     },
     "metadata": {
      "needs_background": "light"
     },
     "output_type": "display_data"
    }
   ],
   "source": [
    "plt.hist(pd.DataFrame(df.query(\"bmi >= 26 and bmi <= 36\")[\"charges\"]))"
   ]
  },
  {
   "cell_type": "code",
   "execution_count": 388,
   "id": "6b41cf17",
   "metadata": {},
   "outputs": [
    {
     "data": {
      "text/plain": [
       "(array([68., 56., 24.,  6.,  3.,  2., 13., 13.,  9.,  1.]),\n",
       " array([ 1141.4451  ,  6884.408038, 12627.370976, 18370.333914,\n",
       "        24113.296852, 29856.25979 , 35599.222728, 41342.185666,\n",
       "        47085.148604, 52828.111542, 58571.07448 ]),\n",
       " <BarContainer object of 10 artists>)"
      ]
     },
     "execution_count": 388,
     "metadata": {},
     "output_type": "execute_result"
    },
    {
     "data": {
      "image/png": "[encoded data removed]",
      "text/plain": [
       "<Figure size 432x288 with 1 Axes>"
      ]
     },
     "metadata": {
      "needs_background": "light"
     },
     "output_type": "display_data"
    }
   ],
   "source": [
    "plt.hist(pd.DataFrame(df.query(\"bmi >= 37 and bmi <= 47\")[\"charges\"]))"
   ]
  },
  {
   "cell_type": "code",
   "execution_count": 389,
   "id": "45e807d7",
   "metadata": {
    "scrolled": true
   },
   "outputs": [
    {
     "data": {
      "text/plain": [
       "(array([2., 1., 1., 0., 0., 0., 0., 0., 0., 1.]),\n",
       " array([ 1163.4627 ,  5497.25625,  9831.0498 , 14164.84335, 18498.6369 ,\n",
       "        22832.43045, 27166.224  , 31500.01755, 35833.8111 , 40167.60465,\n",
       "        44501.3982 ]),\n",
       " <BarContainer object of 10 artists>)"
      ]
     },
     "execution_count": 389,
     "metadata": {},
     "output_type": "execute_result"
    },
    {
     "data": {
      "image/png": "[encoded data removed]",
      "text/plain": [
       "<Figure size 432x288 with 1 Axes>"
      ]
     },
     "metadata": {
      "needs_background": "light"
     },
     "output_type": "display_data"
    }
   ],
   "source": [
    "plt.hist(pd.DataFrame(df.query(\"bmi >= 48 and bmi <= 54\")[\"charges\"]))"
   ]
  },
  {
   "cell_type": "code",
   "execution_count": 390,
   "id": "ac786dbb",
   "metadata": {},
   "outputs": [],
   "source": [
    "## bmi kolonu için outlier veri var mı yani aykırı veri onu incelemek istedik ve var olduğunu gördük "
   ]
  },
  {
   "cell_type": "code",
   "execution_count": 391,
   "id": "1ec6f8b2",
   "metadata": {
    "scrolled": false
   },
   "outputs": [
    {
     "data": {
      "text/plain": [
       "{'whiskers': [<matplotlib.lines.Line2D at 0x1c6deb679d0>,\n",
       "  <matplotlib.lines.Line2D at 0x1c6deb67ca0>],\n",
       " 'caps': [<matplotlib.lines.Line2D at 0x1c6deb67f70>,\n",
       "  <matplotlib.lines.Line2D at 0x1c6deb78280>],\n",
       " 'boxes': [<matplotlib.lines.Line2D at 0x1c6deb67700>],\n",
       " 'medians': [<matplotlib.lines.Line2D at 0x1c6deb78550>],\n",
       " 'fliers': [<matplotlib.lines.Line2D at 0x1c6deb78820>],\n",
       " 'means': []}"
      ]
     },
     "execution_count": 391,
     "metadata": {},
     "output_type": "execute_result"
    },
    {
     "data": {
      "image/png": "[encoded data removed]",
      "text/plain": [
       "<Figure size 432x288 with 1 Axes>"
      ]
     },
     "metadata": {
      "needs_background": "light"
     },
     "output_type": "display_data"
    }
   ],
   "source": [
    "plt.boxplot(df[\"bmi\"])"
   ]
  },
  {
   "cell_type": "code",
   "execution_count": 392,
   "id": "0e0530ec",
   "metadata": {},
   "outputs": [],
   "source": [
    "## bu outlier veriler 45 - 46 arasından başladığını görüyoruz ve bu bmi değerlerini arayıp bu çıkan sonuçları verimizden silelim"
   ]
  },
  {
   "cell_type": "code",
   "execution_count": 393,
   "id": "fe31c636",
   "metadata": {},
   "outputs": [],
   "source": [
    "## bmi değeri 45.5 altında olanları alarak outlier verileri silmiş olduk ve yeni verimizi elde ettik"
   ]
  },
  {
   "cell_type": "code",
   "execution_count": 394,
   "id": "d2a8e961",
   "metadata": {},
   "outputs": [],
   "source": [
    "outlier_data = df[df[\"bmi\"]<45.5]"
   ]
  },
  {
   "cell_type": "code",
   "execution_count": 395,
   "id": "a0df47d4",
   "metadata": {},
   "outputs": [
    {
     "data": {
      "text/html": [
       "<div>\n",
       "<style scoped>\n",
       "    .dataframe tbody tr th:only-of-type {\n",
       "        vertical-align: middle;\n",
       "    }\n",
       "\n",
       "    .dataframe tbody tr th {\n",
       "        vertical-align: top;\n",
       "    }\n",
       "\n",
       "    .dataframe thead th {\n",
       "        text-align: right;\n",
       "    }\n",
       "</style>\n",
       "<table border=\"1\" class=\"dataframe\">\n",
       "  <thead>\n",
       "    <tr style=\"text-align: right;\">\n",
       "      <th></th>\n",
       "      <th>age</th>\n",
       "      <th>sex</th>\n",
       "      <th>bmi</th>\n",
       "      <th>children</th>\n",
       "      <th>smoker</th>\n",
       "      <th>region</th>\n",
       "      <th>charges</th>\n",
       "    </tr>\n",
       "  </thead>\n",
       "  <tbody>\n",
       "    <tr>\n",
       "      <th>116</th>\n",
       "      <td>58</td>\n",
       "      <td>male</td>\n",
       "      <td>49.06</td>\n",
       "      <td>0</td>\n",
       "      <td>no</td>\n",
       "      <td>southeast</td>\n",
       "      <td>11381.32540</td>\n",
       "    </tr>\n",
       "    <tr>\n",
       "      <th>286</th>\n",
       "      <td>46</td>\n",
       "      <td>female</td>\n",
       "      <td>48.07</td>\n",
       "      <td>2</td>\n",
       "      <td>no</td>\n",
       "      <td>northeast</td>\n",
       "      <td>9432.92530</td>\n",
       "    </tr>\n",
       "    <tr>\n",
       "      <th>292</th>\n",
       "      <td>25</td>\n",
       "      <td>male</td>\n",
       "      <td>45.54</td>\n",
       "      <td>2</td>\n",
       "      <td>yes</td>\n",
       "      <td>southeast</td>\n",
       "      <td>42112.23560</td>\n",
       "    </tr>\n",
       "    <tr>\n",
       "      <th>401</th>\n",
       "      <td>47</td>\n",
       "      <td>male</td>\n",
       "      <td>47.52</td>\n",
       "      <td>1</td>\n",
       "      <td>no</td>\n",
       "      <td>southeast</td>\n",
       "      <td>8083.91980</td>\n",
       "    </tr>\n",
       "    <tr>\n",
       "      <th>438</th>\n",
       "      <td>52</td>\n",
       "      <td>female</td>\n",
       "      <td>46.75</td>\n",
       "      <td>5</td>\n",
       "      <td>no</td>\n",
       "      <td>southeast</td>\n",
       "      <td>12592.53450</td>\n",
       "    </tr>\n",
       "    <tr>\n",
       "      <th>454</th>\n",
       "      <td>32</td>\n",
       "      <td>male</td>\n",
       "      <td>46.53</td>\n",
       "      <td>2</td>\n",
       "      <td>no</td>\n",
       "      <td>southeast</td>\n",
       "      <td>4686.38870</td>\n",
       "    </tr>\n",
       "    <tr>\n",
       "      <th>543</th>\n",
       "      <td>54</td>\n",
       "      <td>female</td>\n",
       "      <td>47.41</td>\n",
       "      <td>0</td>\n",
       "      <td>yes</td>\n",
       "      <td>southeast</td>\n",
       "      <td>63770.42801</td>\n",
       "    </tr>\n",
       "    <tr>\n",
       "      <th>547</th>\n",
       "      <td>54</td>\n",
       "      <td>female</td>\n",
       "      <td>46.70</td>\n",
       "      <td>2</td>\n",
       "      <td>no</td>\n",
       "      <td>southwest</td>\n",
       "      <td>11538.42100</td>\n",
       "    </tr>\n",
       "    <tr>\n",
       "      <th>549</th>\n",
       "      <td>43</td>\n",
       "      <td>female</td>\n",
       "      <td>46.20</td>\n",
       "      <td>0</td>\n",
       "      <td>yes</td>\n",
       "      <td>southeast</td>\n",
       "      <td>45863.20500</td>\n",
       "    </tr>\n",
       "    <tr>\n",
       "      <th>660</th>\n",
       "      <td>37</td>\n",
       "      <td>male</td>\n",
       "      <td>46.53</td>\n",
       "      <td>3</td>\n",
       "      <td>no</td>\n",
       "      <td>southeast</td>\n",
       "      <td>6435.62370</td>\n",
       "    </tr>\n",
       "    <tr>\n",
       "      <th>847</th>\n",
       "      <td>23</td>\n",
       "      <td>male</td>\n",
       "      <td>50.38</td>\n",
       "      <td>1</td>\n",
       "      <td>no</td>\n",
       "      <td>southeast</td>\n",
       "      <td>2438.05520</td>\n",
       "    </tr>\n",
       "    <tr>\n",
       "      <th>860</th>\n",
       "      <td>37</td>\n",
       "      <td>female</td>\n",
       "      <td>47.60</td>\n",
       "      <td>2</td>\n",
       "      <td>yes</td>\n",
       "      <td>southwest</td>\n",
       "      <td>46113.51100</td>\n",
       "    </tr>\n",
       "    <tr>\n",
       "      <th>930</th>\n",
       "      <td>26</td>\n",
       "      <td>male</td>\n",
       "      <td>46.53</td>\n",
       "      <td>1</td>\n",
       "      <td>no</td>\n",
       "      <td>southeast</td>\n",
       "      <td>2927.06470</td>\n",
       "    </tr>\n",
       "    <tr>\n",
       "      <th>941</th>\n",
       "      <td>50</td>\n",
       "      <td>female</td>\n",
       "      <td>46.09</td>\n",
       "      <td>1</td>\n",
       "      <td>no</td>\n",
       "      <td>southeast</td>\n",
       "      <td>9549.56510</td>\n",
       "    </tr>\n",
       "    <tr>\n",
       "      <th>1047</th>\n",
       "      <td>22</td>\n",
       "      <td>male</td>\n",
       "      <td>52.58</td>\n",
       "      <td>1</td>\n",
       "      <td>yes</td>\n",
       "      <td>southeast</td>\n",
       "      <td>44501.39820</td>\n",
       "    </tr>\n",
       "    <tr>\n",
       "      <th>1088</th>\n",
       "      <td>52</td>\n",
       "      <td>male</td>\n",
       "      <td>47.74</td>\n",
       "      <td>1</td>\n",
       "      <td>no</td>\n",
       "      <td>southeast</td>\n",
       "      <td>9748.91060</td>\n",
       "    </tr>\n",
       "    <tr>\n",
       "      <th>1131</th>\n",
       "      <td>27</td>\n",
       "      <td>male</td>\n",
       "      <td>45.90</td>\n",
       "      <td>2</td>\n",
       "      <td>no</td>\n",
       "      <td>southwest</td>\n",
       "      <td>3693.42800</td>\n",
       "    </tr>\n",
       "    <tr>\n",
       "      <th>1317</th>\n",
       "      <td>18</td>\n",
       "      <td>male</td>\n",
       "      <td>53.13</td>\n",
       "      <td>0</td>\n",
       "      <td>no</td>\n",
       "      <td>southeast</td>\n",
       "      <td>1163.46270</td>\n",
       "    </tr>\n",
       "  </tbody>\n",
       "</table>\n",
       "</div>"
      ],
      "text/plain": [
       "      age     sex    bmi  children smoker     region      charges\n",
       "116    58    male  49.06         0     no  southeast  11381.32540\n",
       "286    46  female  48.07         2     no  northeast   9432.92530\n",
       "292    25    male  45.54         2    yes  southeast  42112.23560\n",
       "401    47    male  47.52         1     no  southeast   8083.91980\n",
       "438    52  female  46.75         5     no  southeast  12592.53450\n",
       "454    32    male  46.53         2     no  southeast   4686.38870\n",
       "543    54  female  47.41         0    yes  southeast  63770.42801\n",
       "547    54  female  46.70         2     no  southwest  11538.42100\n",
       "549    43  female  46.20         0    yes  southeast  45863.20500\n",
       "660    37    male  46.53         3     no  southeast   6435.62370\n",
       "847    23    male  50.38         1     no  southeast   2438.05520\n",
       "860    37  female  47.60         2    yes  southwest  46113.51100\n",
       "930    26    male  46.53         1     no  southeast   2927.06470\n",
       "941    50  female  46.09         1     no  southeast   9549.56510\n",
       "1047   22    male  52.58         1    yes  southeast  44501.39820\n",
       "1088   52    male  47.74         1     no  southeast   9748.91060\n",
       "1131   27    male  45.90         2     no  southwest   3693.42800\n",
       "1317   18    male  53.13         0     no  southeast   1163.46270"
      ]
     },
     "execution_count": 395,
     "metadata": {},
     "output_type": "execute_result"
    }
   ],
   "source": [
    "df[df[\"bmi\"]>45.5]"
   ]
  },
  {
   "cell_type": "code",
   "execution_count": 396,
   "id": "3665cef1",
   "metadata": {
    "scrolled": true
   },
   "outputs": [
    {
     "data": {
      "text/html": [
       "<div>\n",
       "<style scoped>\n",
       "    .dataframe tbody tr th:only-of-type {\n",
       "        vertical-align: middle;\n",
       "    }\n",
       "\n",
       "    .dataframe tbody tr th {\n",
       "        vertical-align: top;\n",
       "    }\n",
       "\n",
       "    .dataframe thead th {\n",
       "        text-align: right;\n",
       "    }\n",
       "</style>\n",
       "<table border=\"1\" class=\"dataframe\">\n",
       "  <thead>\n",
       "    <tr style=\"text-align: right;\">\n",
       "      <th></th>\n",
       "      <th>age</th>\n",
       "      <th>sex</th>\n",
       "      <th>bmi</th>\n",
       "      <th>children</th>\n",
       "      <th>smoker</th>\n",
       "      <th>region</th>\n",
       "      <th>charges</th>\n",
       "    </tr>\n",
       "  </thead>\n",
       "  <tbody>\n",
       "    <tr>\n",
       "      <th>0</th>\n",
       "      <td>19</td>\n",
       "      <td>female</td>\n",
       "      <td>27.900</td>\n",
       "      <td>0</td>\n",
       "      <td>yes</td>\n",
       "      <td>southwest</td>\n",
       "      <td>16884.92400</td>\n",
       "    </tr>\n",
       "    <tr>\n",
       "      <th>1</th>\n",
       "      <td>18</td>\n",
       "      <td>male</td>\n",
       "      <td>33.770</td>\n",
       "      <td>1</td>\n",
       "      <td>no</td>\n",
       "      <td>southeast</td>\n",
       "      <td>1725.55230</td>\n",
       "    </tr>\n",
       "    <tr>\n",
       "      <th>2</th>\n",
       "      <td>28</td>\n",
       "      <td>male</td>\n",
       "      <td>33.000</td>\n",
       "      <td>3</td>\n",
       "      <td>no</td>\n",
       "      <td>southeast</td>\n",
       "      <td>4449.46200</td>\n",
       "    </tr>\n",
       "    <tr>\n",
       "      <th>3</th>\n",
       "      <td>33</td>\n",
       "      <td>male</td>\n",
       "      <td>22.705</td>\n",
       "      <td>0</td>\n",
       "      <td>no</td>\n",
       "      <td>northwest</td>\n",
       "      <td>21984.47061</td>\n",
       "    </tr>\n",
       "    <tr>\n",
       "      <th>4</th>\n",
       "      <td>32</td>\n",
       "      <td>male</td>\n",
       "      <td>28.880</td>\n",
       "      <td>0</td>\n",
       "      <td>no</td>\n",
       "      <td>northwest</td>\n",
       "      <td>3866.85520</td>\n",
       "    </tr>\n",
       "    <tr>\n",
       "      <th>...</th>\n",
       "      <td>...</td>\n",
       "      <td>...</td>\n",
       "      <td>...</td>\n",
       "      <td>...</td>\n",
       "      <td>...</td>\n",
       "      <td>...</td>\n",
       "      <td>...</td>\n",
       "    </tr>\n",
       "    <tr>\n",
       "      <th>1333</th>\n",
       "      <td>50</td>\n",
       "      <td>male</td>\n",
       "      <td>30.970</td>\n",
       "      <td>3</td>\n",
       "      <td>no</td>\n",
       "      <td>northwest</td>\n",
       "      <td>10600.54830</td>\n",
       "    </tr>\n",
       "    <tr>\n",
       "      <th>1334</th>\n",
       "      <td>18</td>\n",
       "      <td>female</td>\n",
       "      <td>31.920</td>\n",
       "      <td>0</td>\n",
       "      <td>no</td>\n",
       "      <td>northeast</td>\n",
       "      <td>2205.98080</td>\n",
       "    </tr>\n",
       "    <tr>\n",
       "      <th>1335</th>\n",
       "      <td>18</td>\n",
       "      <td>female</td>\n",
       "      <td>36.850</td>\n",
       "      <td>0</td>\n",
       "      <td>no</td>\n",
       "      <td>southeast</td>\n",
       "      <td>1629.83350</td>\n",
       "    </tr>\n",
       "    <tr>\n",
       "      <th>1336</th>\n",
       "      <td>21</td>\n",
       "      <td>female</td>\n",
       "      <td>25.800</td>\n",
       "      <td>0</td>\n",
       "      <td>no</td>\n",
       "      <td>southwest</td>\n",
       "      <td>2007.94500</td>\n",
       "    </tr>\n",
       "    <tr>\n",
       "      <th>1337</th>\n",
       "      <td>61</td>\n",
       "      <td>female</td>\n",
       "      <td>29.070</td>\n",
       "      <td>0</td>\n",
       "      <td>yes</td>\n",
       "      <td>northwest</td>\n",
       "      <td>29141.36030</td>\n",
       "    </tr>\n",
       "  </tbody>\n",
       "</table>\n",
       "<p>1320 rows × 7 columns</p>\n",
       "</div>"
      ],
      "text/plain": [
       "      age     sex     bmi  children smoker     region      charges\n",
       "0      19  female  27.900         0    yes  southwest  16884.92400\n",
       "1      18    male  33.770         1     no  southeast   1725.55230\n",
       "2      28    male  33.000         3     no  southeast   4449.46200\n",
       "3      33    male  22.705         0     no  northwest  21984.47061\n",
       "4      32    male  28.880         0     no  northwest   3866.85520\n",
       "...   ...     ...     ...       ...    ...        ...          ...\n",
       "1333   50    male  30.970         3     no  northwest  10600.54830\n",
       "1334   18  female  31.920         0     no  northeast   2205.98080\n",
       "1335   18  female  36.850         0     no  southeast   1629.83350\n",
       "1336   21  female  25.800         0     no  southwest   2007.94500\n",
       "1337   61  female  29.070         0    yes  northwest  29141.36030\n",
       "\n",
       "[1320 rows x 7 columns]"
      ]
     },
     "execution_count": 396,
     "metadata": {},
     "output_type": "execute_result"
    }
   ],
   "source": [
    "outlier_data"
   ]
  },
  {
   "cell_type": "code",
   "execution_count": 397,
   "id": "8bebae68",
   "metadata": {},
   "outputs": [],
   "source": [
    "## görüldüğü üzere artık outlier verimiz bulunmamakta"
   ]
  },
  {
   "cell_type": "code",
   "execution_count": 398,
   "id": "174c5646",
   "metadata": {
    "scrolled": true
   },
   "outputs": [
    {
     "data": {
      "text/plain": [
       "{'whiskers': [<matplotlib.lines.Line2D at 0x1c6debd6ee0>,\n",
       "  <matplotlib.lines.Line2D at 0x1c6debe51f0>],\n",
       " 'caps': [<matplotlib.lines.Line2D at 0x1c6debe54c0>,\n",
       "  <matplotlib.lines.Line2D at 0x1c6debe5790>],\n",
       " 'boxes': [<matplotlib.lines.Line2D at 0x1c6debd6c10>],\n",
       " 'medians': [<matplotlib.lines.Line2D at 0x1c6debe5a90>],\n",
       " 'fliers': [<matplotlib.lines.Line2D at 0x1c6debe5d60>],\n",
       " 'means': []}"
      ]
     },
     "execution_count": 398,
     "metadata": {},
     "output_type": "execute_result"
    },
    {
     "data": {
      "image/png": "[encoded data removed]",
      "text/plain": [
       "<Figure size 432x288 with 1 Axes>"
      ]
     },
     "metadata": {
      "needs_background": "light"
     },
     "output_type": "display_data"
    }
   ],
   "source": [
    "plt.boxplot(outlier_data[\"bmi\"])\n"
   ]
  },
  {
   "cell_type": "code",
   "execution_count": 399,
   "id": "5bebbb0e",
   "metadata": {},
   "outputs": [],
   "source": [
    "df = outlier_data"
   ]
  },
  {
   "cell_type": "code",
   "execution_count": 400,
   "id": "1ec9d7d9",
   "metadata": {
    "scrolled": true
   },
   "outputs": [
    {
     "data": {
      "text/html": [
       "<div>\n",
       "<style scoped>\n",
       "    .dataframe tbody tr th:only-of-type {\n",
       "        vertical-align: middle;\n",
       "    }\n",
       "\n",
       "    .dataframe tbody tr th {\n",
       "        vertical-align: top;\n",
       "    }\n",
       "\n",
       "    .dataframe thead th {\n",
       "        text-align: right;\n",
       "    }\n",
       "</style>\n",
       "<table border=\"1\" class=\"dataframe\">\n",
       "  <thead>\n",
       "    <tr style=\"text-align: right;\">\n",
       "      <th></th>\n",
       "      <th>age</th>\n",
       "      <th>sex</th>\n",
       "      <th>bmi</th>\n",
       "      <th>children</th>\n",
       "      <th>smoker</th>\n",
       "      <th>region</th>\n",
       "      <th>charges</th>\n",
       "    </tr>\n",
       "  </thead>\n",
       "  <tbody>\n",
       "    <tr>\n",
       "      <th>0</th>\n",
       "      <td>19</td>\n",
       "      <td>female</td>\n",
       "      <td>27.900</td>\n",
       "      <td>0</td>\n",
       "      <td>yes</td>\n",
       "      <td>southwest</td>\n",
       "      <td>16884.92400</td>\n",
       "    </tr>\n",
       "    <tr>\n",
       "      <th>1</th>\n",
       "      <td>18</td>\n",
       "      <td>male</td>\n",
       "      <td>33.770</td>\n",
       "      <td>1</td>\n",
       "      <td>no</td>\n",
       "      <td>southeast</td>\n",
       "      <td>1725.55230</td>\n",
       "    </tr>\n",
       "    <tr>\n",
       "      <th>2</th>\n",
       "      <td>28</td>\n",
       "      <td>male</td>\n",
       "      <td>33.000</td>\n",
       "      <td>3</td>\n",
       "      <td>no</td>\n",
       "      <td>southeast</td>\n",
       "      <td>4449.46200</td>\n",
       "    </tr>\n",
       "    <tr>\n",
       "      <th>3</th>\n",
       "      <td>33</td>\n",
       "      <td>male</td>\n",
       "      <td>22.705</td>\n",
       "      <td>0</td>\n",
       "      <td>no</td>\n",
       "      <td>northwest</td>\n",
       "      <td>21984.47061</td>\n",
       "    </tr>\n",
       "    <tr>\n",
       "      <th>4</th>\n",
       "      <td>32</td>\n",
       "      <td>male</td>\n",
       "      <td>28.880</td>\n",
       "      <td>0</td>\n",
       "      <td>no</td>\n",
       "      <td>northwest</td>\n",
       "      <td>3866.85520</td>\n",
       "    </tr>\n",
       "    <tr>\n",
       "      <th>...</th>\n",
       "      <td>...</td>\n",
       "      <td>...</td>\n",
       "      <td>...</td>\n",
       "      <td>...</td>\n",
       "      <td>...</td>\n",
       "      <td>...</td>\n",
       "      <td>...</td>\n",
       "    </tr>\n",
       "    <tr>\n",
       "      <th>1333</th>\n",
       "      <td>50</td>\n",
       "      <td>male</td>\n",
       "      <td>30.970</td>\n",
       "      <td>3</td>\n",
       "      <td>no</td>\n",
       "      <td>northwest</td>\n",
       "      <td>10600.54830</td>\n",
       "    </tr>\n",
       "    <tr>\n",
       "      <th>1334</th>\n",
       "      <td>18</td>\n",
       "      <td>female</td>\n",
       "      <td>31.920</td>\n",
       "      <td>0</td>\n",
       "      <td>no</td>\n",
       "      <td>northeast</td>\n",
       "      <td>2205.98080</td>\n",
       "    </tr>\n",
       "    <tr>\n",
       "      <th>1335</th>\n",
       "      <td>18</td>\n",
       "      <td>female</td>\n",
       "      <td>36.850</td>\n",
       "      <td>0</td>\n",
       "      <td>no</td>\n",
       "      <td>southeast</td>\n",
       "      <td>1629.83350</td>\n",
       "    </tr>\n",
       "    <tr>\n",
       "      <th>1336</th>\n",
       "      <td>21</td>\n",
       "      <td>female</td>\n",
       "      <td>25.800</td>\n",
       "      <td>0</td>\n",
       "      <td>no</td>\n",
       "      <td>southwest</td>\n",
       "      <td>2007.94500</td>\n",
       "    </tr>\n",
       "    <tr>\n",
       "      <th>1337</th>\n",
       "      <td>61</td>\n",
       "      <td>female</td>\n",
       "      <td>29.070</td>\n",
       "      <td>0</td>\n",
       "      <td>yes</td>\n",
       "      <td>northwest</td>\n",
       "      <td>29141.36030</td>\n",
       "    </tr>\n",
       "  </tbody>\n",
       "</table>\n",
       "<p>1320 rows × 7 columns</p>\n",
       "</div>"
      ],
      "text/plain": [
       "      age     sex     bmi  children smoker     region      charges\n",
       "0      19  female  27.900         0    yes  southwest  16884.92400\n",
       "1      18    male  33.770         1     no  southeast   1725.55230\n",
       "2      28    male  33.000         3     no  southeast   4449.46200\n",
       "3      33    male  22.705         0     no  northwest  21984.47061\n",
       "4      32    male  28.880         0     no  northwest   3866.85520\n",
       "...   ...     ...     ...       ...    ...        ...          ...\n",
       "1333   50    male  30.970         3     no  northwest  10600.54830\n",
       "1334   18  female  31.920         0     no  northeast   2205.98080\n",
       "1335   18  female  36.850         0     no  southeast   1629.83350\n",
       "1336   21  female  25.800         0     no  southwest   2007.94500\n",
       "1337   61  female  29.070         0    yes  northwest  29141.36030\n",
       "\n",
       "[1320 rows x 7 columns]"
      ]
     },
     "execution_count": 400,
     "metadata": {},
     "output_type": "execute_result"
    }
   ],
   "source": [
    "df"
   ]
  },
  {
   "cell_type": "code",
   "execution_count": 401,
   "id": "e97beb22",
   "metadata": {},
   "outputs": [],
   "source": [
    "## sigara içip içmeyenlere ve bölgelere göre bmi sayılarını görmek istedim bar plot yardımı ile grafiğimizi çizdirdim"
   ]
  },
  {
   "cell_type": "code",
   "execution_count": 402,
   "id": "a42b209b",
   "metadata": {
    "scrolled": true
   },
   "outputs": [
    {
     "data": {
      "text/plain": [
       "<AxesSubplot:xlabel='region', ylabel='bmi'>"
      ]
     },
     "execution_count": 402,
     "metadata": {},
     "output_type": "execute_result"
    },
    {
     "data": {
      "image/png": "[encoded data removed]",
      "text/plain": [
       "<Figure size 432x288 with 1 Axes>"
      ]
     },
     "metadata": {
      "needs_background": "light"
     },
     "output_type": "display_data"
    }
   ],
   "source": [
    "sns.barplot(x=\"region\", y=\"bmi\", hue=\"smoker\", data=df)"
   ]
  },
  {
   "cell_type": "code",
   "execution_count": 403,
   "id": "37dccdbc",
   "metadata": {},
   "outputs": [],
   "source": [
    "## verimizde kategorik değişkenler olduğu için bu şekilde öğrenirse makinemiz yanlış sonuçlar verir,\n",
    "## bu yüzden OneHotEncoder işlemi yaparak verimizi tamamıyla sayısal değişken haline getirdik artık eğitime hazırız"
   ]
  },
  {
   "cell_type": "code",
   "execution_count": 404,
   "id": "2c1332e1",
   "metadata": {},
   "outputs": [],
   "source": [
    "from sklearn.preprocessing import OneHotEncoder\n",
    "\n",
    "new_smoker_col = pd.get_dummies(df[\"smoker\"])\n",
    "df = df.join(new_smoker_col)\n",
    "df.drop([\"smoker\"],axis = 1,inplace = True)\n",
    "\n",
    "new_sex_col = pd.get_dummies(df[\"sex\"])\n",
    "df = df.join(new_sex_col)\n",
    "df.drop([\"sex\"],axis = 1,inplace = True)\n",
    "\n",
    "new_region_col = pd.get_dummies(df[\"region\"])\n",
    "df = df.join(new_region_col)\n",
    "df.drop([\"region\"],axis = 1,inplace = True)\n"
   ]
  },
  {
   "cell_type": "code",
   "execution_count": 405,
   "id": "ad80b98b",
   "metadata": {},
   "outputs": [],
   "source": [
    "## eğitim ve test verimizi ayarlıyoruz"
   ]
  },
  {
   "cell_type": "code",
   "execution_count": 406,
   "id": "83f0013d",
   "metadata": {},
   "outputs": [],
   "source": [
    "X = df.drop([\"charges\"],axis=1)\n",
    "Y = df[\"charges\"]"
   ]
  },
  {
   "cell_type": "code",
   "execution_count": 407,
   "id": "f7dfb007",
   "metadata": {},
   "outputs": [],
   "source": [
    "## verimizi scale ediyoruz normalize ettik "
   ]
  },
  {
   "cell_type": "code",
   "execution_count": 408,
   "id": "66491bbc",
   "metadata": {},
   "outputs": [],
   "source": [
    "from sklearn.preprocessing import StandardScaler\n",
    "sc = StandardScaler()\n",
    "X = sc.fit_transform(X)"
   ]
  },
  {
   "cell_type": "code",
   "execution_count": 409,
   "id": "7ee2b81a",
   "metadata": {},
   "outputs": [],
   "source": [
    "## verimizi train ve test olarak ayırdık "
   ]
  },
  {
   "cell_type": "code",
   "execution_count": 410,
   "id": "9a6f6352",
   "metadata": {},
   "outputs": [
    {
     "name": "stdout",
     "output_type": "stream",
     "text": [
      "X_train 1056\n",
      "X_test 264\n",
      "y_train 1056\n",
      "y_test 264\n"
     ]
    }
   ],
   "source": [
    "from sklearn.model_selection import train_test_split,KFold\n",
    "\n",
    "x_train,x_test,y_train,y_test = train_test_split(X,Y,test_size=0.2,random_state=34)\n",
    "print(\"X_train\",len(x_train))\n",
    "print(\"X_test\",len(x_test))\n",
    "print(\"y_train\",len(y_train))\n",
    "print(\"y_test\",len(y_test))"
   ]
  },
  {
   "cell_type": "code",
   "execution_count": 411,
   "id": "4831c670",
   "metadata": {},
   "outputs": [],
   "source": [
    "## ben DecisionTreeRegressor ve LinearRegression algoritmalarını kullandım en iyi sonucu DecisionTreeRegressor algoritmasının\n",
    "## verdiğini gördük uygulayalım ve modellerimiz eğitim sonuçlara bakalim"
   ]
  },
  {
   "cell_type": "code",
   "execution_count": 412,
   "id": "d9ebd5b4",
   "metadata": {},
   "outputs": [
    {
     "name": "stdout",
     "output_type": "stream",
     "text": [
      "Training Accuracy: % 87.16\n",
      "Testing Accuracy: % 82.95\n",
      "Mean Absolute Error (MAE): 2794.05\n",
      "Mean Squared Error (MSE): 23410541.59\n",
      "Root Mean Squared Error (RMSE): 4838.44\n"
     ]
    }
   ],
   "source": [
    "from sklearn.tree import DecisionTreeRegressor\n",
    "from sklearn.metrics import accuracy_score \n",
    "from sklearn.metrics import confusion_matrix as cm\n",
    "from sklearn.metrics import mean_squared_error\n",
    "from sklearn.metrics import mean_absolute_error\n",
    "\n",
    "X_train, X_test, y_train, y_test = train_test_split(X, Y, test_size=0.2, random_state=42)\n",
    "dtree = DecisionTreeRegressor(max_depth = 4, random_state=42)\n",
    "dtree.fit(X_train, y_train)\n",
    "\n",
    "acc_log_train = round(dtree.score(X_train, y_train)*100,2) \n",
    "acc_log_test = round(dtree.score(X_test,y_test)*100,2)\n",
    "print(\"Training Accuracy: % {}\".format(acc_log_train))\n",
    "print(\"Testing Accuracy: % {}\".format(acc_log_test))\n",
    "\n",
    "mae = mean_absolute_error(dtree.predict(X_test), y_test)\n",
    "mse = mean_squared_error(dtree.predict(X_test), y_test)\n",
    "rmse = np.sqrt(mse)\n",
    "\n",
    "print('Mean Absolute Error (MAE): %.2f' % mae)\n",
    "print('Mean Squared Error (MSE): %.2f' % mse)\n",
    "print('Root Mean Squared Error (RMSE): %.2f' % rmse)\n",
    "\n"
   ]
  },
  {
   "cell_type": "code",
   "execution_count": 413,
   "id": "4a30bd34",
   "metadata": {},
   "outputs": [
    {
     "name": "stdout",
     "output_type": "stream",
     "text": [
      "Training Accuracy: % 75.4\n",
      "Testing Accuracy: % 72.77\n",
      "Mean Absolute Error (MAE): 10954.33\n",
      "Mean Squared Error (MSE): 230817211.93\n",
      "Root Mean Squared Error (RMSE): 15192.67\n"
     ]
    }
   ],
   "source": [
    "from sklearn.linear_model import LinearRegression\n",
    "\n",
    "linreg = LinearRegression()\n",
    "linreg.fit(X_train, y_train)\n",
    "acc_log_train = round(linreg.score(X_train, y_train)*100,2) \n",
    "acc_log_test = round(linreg.score(X_test,y_test)*100,2)\n",
    "print(\"Training Accuracy: % {}\".format(acc_log_train))\n",
    "print(\"Testing Accuracy: % {}\".format(acc_log_test))\n",
    "\n",
    "\n",
    "mae = mean_absolute_error(linreg.predict(x_test), y_test)\n",
    "mse = mean_squared_error(linreg.predict(x_test), y_test)\n",
    "rmse = np.sqrt(mse)\n",
    "\n",
    "print('Mean Absolute Error (MAE): %.2f' % mae)\n",
    "print('Mean Squared Error (MSE): %.2f' % mse)\n",
    "print('Root Mean Squared Error (RMSE): %.2f' % rmse)"
   ]
  },
  {
   "cell_type": "code",
   "execution_count": 414,
   "id": "54ec9820",
   "metadata": {},
   "outputs": [],
   "source": [
    "## 82.95 lik bir doğruluk oranı elde ettik teşekkürler :)"
   ]
  },
  {
   "cell_type": "code",
   "execution_count": null,
   "id": "df6acfc2",
   "metadata": {},
   "outputs": [],
   "source": []
  }
 ],
 "metadata": {
  "kernelspec": {
   "display_name": "Python 3 (ipykernel)",
   "language": "python",
   "name": "python3"
  },
  "language_info": {
   "codemirror_mode": {
    "name": "ipython",
    "version": 3
   },
   "file_extension": ".py",
   "mimetype": "text/x-python",
   "name": "python",
   "nbconvert_exporter": "python",
   "pygments_lexer": "ipython3",
   "version": "3.9.12"
  }
 },
 "nbformat": 4,
 "nbformat_minor": 5
}
